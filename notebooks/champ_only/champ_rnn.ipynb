{
 "cells": [
  {
   "cell_type": "code",
   "execution_count": 61,
   "metadata": {},
   "outputs": [
    {
     "name": "stdout",
     "output_type": "stream",
     "text": [
      "Using cuda device NVIDIA GeForce RTX 3060 Laptop GPU\n"
     ]
    }
   ],
   "source": [
    "import sys\n",
    "from IPython.display import clear_output\n",
    "import torch\n",
    "from torch import nn\n",
    "from torch.nn import functional as F\n",
    "\n",
    "# Find a way to deal with this better (importing utils)\n",
    "sys.path.append('../')\n",
    "from utils.util import MatchData\n",
    "\n",
    "# Use CUDA\n",
    "device = \"cuda\" if torch.cuda.is_available() else \"cpu\"\n",
    "if device == 'cuda':\n",
    "    print(f'Using cuda device {torch.cuda.get_device_name()}')\n",
    "else:\n",
    "    print(f\"Using {device} device\")"
   ]
  },
  {
   "cell_type": "code",
   "execution_count": 62,
   "metadata": {},
   "outputs": [],
   "source": [
    "# Load data    \n",
    "load_path = '../../data/processed/processed_match_data_euw1_1667433600_1668520576.csv'\n",
    "data = MatchData(load_path, device = device, data_format ='champ', sequential = True)\n",
    "(X_tr, Y_tr), (X_te, Y_te) = data.test_train_split(split_size=0.8, seed=42)\n",
    "batches = data.create_mini_batches(batch_size = 32)"
   ]
  },
  {
   "cell_type": "code",
   "execution_count": 63,
   "metadata": {},
   "outputs": [],
   "source": [
    "# RNN module\n",
    "\n",
    "class RnnModel(nn.Module):\n",
    "    def __init__(self, data, embed_dim:int, rnn_hidden_size:int):\n",
    "        super(RnnModel, self).__init__()\n",
    "        \n",
    "        self.embed_dim = embed_dim\n",
    "        self.rnn_hidden_size = rnn_hidden_size\n",
    "        \n",
    "        self.embed = nn.Embedding(data.num_champs, embed_dim)\n",
    "        self.rnn = nn.RNN(input_size=2*embed_dim, hidden_size = rnn_hidden_size,\n",
    "                          batch_first = True, bidirectional = False)\n",
    "        self.linear = nn.Linear(rnn_hidden_size, 1)\n",
    "        self.sigmoid = nn.Sigmoid()\n",
    "\n",
    "    \n",
    "    def forward(self, x):\n",
    "        # x.shape = (batch_size, 10)\n",
    "        x_emb = self.embed(x) # x_emb.shape = (batch_size, 10, embed_dim)\n",
    "        x_flatten = x_emb.reshape(-1, 5, 2*self.embed_dim) # x_flatten.shape = (batch_size, 5, 2*embed_dim)\n",
    "        h_states = self.rnn(x_flatten)[0] # h_states.shape = (batch_size, 5, rnn_hidden_size)\n",
    "        h_avg = h_states.mean(dim=1) # Take avg?\n",
    "        logits = self.linear(h_avg)\n",
    "        probs = self.sigmoid(logits)\n",
    "        \n",
    "        return probs\n",
    "        "
   ]
  },
  {
   "cell_type": "code",
   "execution_count": 64,
   "metadata": {},
   "outputs": [
    {
     "name": "stdout",
     "output_type": "stream",
     "text": [
      "560 parameters.\n",
      "RnnModel(\n",
      "  (embed): Embedding(163, 3)\n",
      "  (rnn): RNN(6, 5, batch_first=True)\n",
      "  (linear): Linear(in_features=5, out_features=1, bias=True)\n",
      "  (sigmoid): Sigmoid()\n",
      ")\n"
     ]
    }
   ],
   "source": [
    "# Hyper parameters & initialisation \n",
    "\n",
    "embed_size = 3 # Embedding size\n",
    "rnn_hidden_size = 5 # Hidden size\n",
    "\n",
    "learning_rate = 0.01 # Learning rate\n",
    "weight_decay = 0.0005 # wd\n",
    "\n",
    "# Model\n",
    "model = RnnModel(data, embed_size, rnn_hidden_size).to(device)\n",
    "print(f'{sum(p.numel() for p in model.parameters() if p.requires_grad)} parameters.')\n",
    "print(model)\n",
    "\n",
    "# Loss function and optimiser\n",
    "loss_fn = nn.BCELoss()\n",
    "optimiser = torch.optim.Adam(model.parameters(), lr=learning_rate)"
   ]
  },
  {
   "cell_type": "code",
   "execution_count": 65,
   "metadata": {},
   "outputs": [],
   "source": [
    "# Train functions\n",
    "\n",
    "@torch.no_grad()\n",
    "def test(x, y):\n",
    "    \"\"\"Returns loss and accuracy\"\"\"\n",
    "    \n",
    "    model.eval()\n",
    "    y_pred = model.forward(x)\n",
    "    loss = round(loss_fn(y_pred, y).item(), 4)\n",
    "    accuracy = round((y_pred.round() == y).sum().item() / y.shape[0], 4)\n",
    "    \n",
    "    return loss, accuracy\n",
    "\n",
    "\n",
    "def train(n_epochs):\n",
    "    for epoch in range(n_epochs):\n",
    "        print(f'Epoch {epoch+1} / {n_epochs} complete:')\n",
    "    \n",
    "        train_loss, train_acc = test(X_tr, Y_tr)\n",
    "        test_loss, test_acc = test(X_te, Y_te)\n",
    "        print(f'Train loss = {train_loss}. Train accuracy = {train_acc}.')\n",
    "        print(f'Test loss = {test_loss}. Test accuracy = {test_acc}.')\n",
    "        \n",
    "        train_epoch()\n",
    "        clear_output(wait=True)\n",
    "\n",
    "\n",
    "def train_epoch():\n",
    "    model.train()\n",
    "    for i, (X_b, Y_b) in enumerate(batches):\n",
    "        \n",
    "        Y_pred = model.forward(X_b)\n",
    "        loss = loss_fn(Y_pred, Y_b)\n",
    "        \n",
    "        optimiser.zero_grad()\n",
    "        loss.backward()\n",
    "        optimiser.step()"
   ]
  },
  {
   "cell_type": "code",
   "execution_count": 66,
   "metadata": {},
   "outputs": [
    {
     "name": "stdout",
     "output_type": "stream",
     "text": [
      "Epoch 2 / 200 complete:\n",
      "Train loss = 0.6932. Train accuracy = 0.5023.\n",
      "Test loss = 0.6945. Test accuracy = 0.4877.\n"
     ]
    }
   ],
   "source": [
    "# Training\n",
    "train(200)"
   ]
  }
 ],
 "metadata": {
  "kernelspec": {
   "display_name": "dodge",
   "language": "python",
   "name": "python3"
  },
  "language_info": {
   "codemirror_mode": {
    "name": "ipython",
    "version": 3
   },
   "file_extension": ".py",
   "mimetype": "text/x-python",
   "name": "python",
   "nbconvert_exporter": "python",
   "pygments_lexer": "ipython3",
   "version": "3.10.8"
  },
  "orig_nbformat": 4,
  "vscode": {
   "interpreter": {
    "hash": "6b428aa47f107000e840df95f6d14d4302964853380e055cb960276bf8623254"
   }
  }
 },
 "nbformat": 4,
 "nbformat_minor": 2
}
